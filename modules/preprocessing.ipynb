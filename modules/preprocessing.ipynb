{
 "cells": [
  {
   "cell_type": "code",
   "execution_count": 178,
   "id": "e645e224-d426-49f4-8747-f0ddd210ba53",
   "metadata": {},
   "outputs": [],
   "source": [
    "import pandas as pd\n",
    "import numpy as np"
   ]
  },
  {
   "cell_type": "code",
   "execution_count": 179,
   "id": "410a01a1-e26d-4fa0-9621-957cbda03678",
   "metadata": {},
   "outputs": [],
   "source": [
    "data = pd.read_csv(r'..\\datasets\\Womens Clothing E-Commerce Reviews.csv')"
   ]
  },
  {
   "cell_type": "code",
   "execution_count": 180,
   "id": "ca636f4c-95e8-477d-8342-b9dddc21015f",
   "metadata": {},
   "outputs": [
    {
     "data": {
      "text/plain": [
       "Index(['Unnamed: 0', 'Clothing ID', 'Age', 'Title', 'Review Text', 'Rating',\n",
       "       'Recommended IND', 'Positive Feedback Count', 'Division Name',\n",
       "       'Department Name', 'Class Name'],\n",
       "      dtype='object')"
      ]
     },
     "execution_count": 180,
     "metadata": {},
     "output_type": "execute_result"
    }
   ],
   "source": [
    "data.columns"
   ]
  },
  {
   "cell_type": "markdown",
   "id": "ef9f94a2-a2f7-4157-91ad-a2cb330bab84",
   "metadata": {},
   "source": [
    "Keeping only required columns"
   ]
  },
  {
   "cell_type": "code",
   "execution_count": 181,
   "id": "844272ec-472b-4a1a-98f0-5e437ae0f406",
   "metadata": {},
   "outputs": [],
   "source": [
    "keep = ['Title', 'Review Text', 'Rating','Recommended IND', 'Positive Feedback Count']\n",
    "data = data[keep]"
   ]
  },
  {
   "cell_type": "code",
   "execution_count": 182,
   "id": "a1a5a8ed-67f8-46fe-9a21-2cf7a521e35f",
   "metadata": {},
   "outputs": [
    {
     "data": {
      "text/html": [
       "<div>\n",
       "<style scoped>\n",
       "    .dataframe tbody tr th:only-of-type {\n",
       "        vertical-align: middle;\n",
       "    }\n",
       "\n",
       "    .dataframe tbody tr th {\n",
       "        vertical-align: top;\n",
       "    }\n",
       "\n",
       "    .dataframe thead th {\n",
       "        text-align: right;\n",
       "    }\n",
       "</style>\n",
       "<table border=\"1\" class=\"dataframe\">\n",
       "  <thead>\n",
       "    <tr style=\"text-align: right;\">\n",
       "      <th></th>\n",
       "      <th>Title</th>\n",
       "      <th>Review Text</th>\n",
       "      <th>Rating</th>\n",
       "      <th>Recommended IND</th>\n",
       "      <th>Positive Feedback Count</th>\n",
       "    </tr>\n",
       "  </thead>\n",
       "  <tbody>\n",
       "    <tr>\n",
       "      <th>0</th>\n",
       "      <td>NaN</td>\n",
       "      <td>Absolutely wonderful - silky and sexy and comf...</td>\n",
       "      <td>4</td>\n",
       "      <td>1</td>\n",
       "      <td>0</td>\n",
       "    </tr>\n",
       "    <tr>\n",
       "      <th>1</th>\n",
       "      <td>NaN</td>\n",
       "      <td>Love this dress!  it's sooo pretty.  i happene...</td>\n",
       "      <td>5</td>\n",
       "      <td>1</td>\n",
       "      <td>4</td>\n",
       "    </tr>\n",
       "    <tr>\n",
       "      <th>2</th>\n",
       "      <td>Some major design flaws</td>\n",
       "      <td>I had such high hopes for this dress and reall...</td>\n",
       "      <td>3</td>\n",
       "      <td>0</td>\n",
       "      <td>0</td>\n",
       "    </tr>\n",
       "    <tr>\n",
       "      <th>3</th>\n",
       "      <td>My favorite buy!</td>\n",
       "      <td>I love, love, love this jumpsuit. it's fun, fl...</td>\n",
       "      <td>5</td>\n",
       "      <td>1</td>\n",
       "      <td>0</td>\n",
       "    </tr>\n",
       "    <tr>\n",
       "      <th>4</th>\n",
       "      <td>Flattering shirt</td>\n",
       "      <td>This shirt is very flattering to all due to th...</td>\n",
       "      <td>5</td>\n",
       "      <td>1</td>\n",
       "      <td>6</td>\n",
       "    </tr>\n",
       "  </tbody>\n",
       "</table>\n",
       "</div>"
      ],
      "text/plain": [
       "                     Title                                        Review Text  \\\n",
       "0                      NaN  Absolutely wonderful - silky and sexy and comf...   \n",
       "1                      NaN  Love this dress!  it's sooo pretty.  i happene...   \n",
       "2  Some major design flaws  I had such high hopes for this dress and reall...   \n",
       "3         My favorite buy!  I love, love, love this jumpsuit. it's fun, fl...   \n",
       "4         Flattering shirt  This shirt is very flattering to all due to th...   \n",
       "\n",
       "   Rating  Recommended IND  Positive Feedback Count  \n",
       "0       4                1                        0  \n",
       "1       5                1                        4  \n",
       "2       3                0                        0  \n",
       "3       5                1                        0  \n",
       "4       5                1                        6  "
      ]
     },
     "execution_count": 182,
     "metadata": {},
     "output_type": "execute_result"
    }
   ],
   "source": [
    "data.head()"
   ]
  },
  {
   "cell_type": "markdown",
   "id": "fb66bbf7-e4af-4635-9929-3a20a838ba0e",
   "metadata": {},
   "source": [
    "<h3>Analyzing correlations among key features to establish criteria for accurate sentiment labeling</h3>"
   ]
  },
  {
   "cell_type": "code",
   "execution_count": 183,
   "id": "4c0326ea-7398-4b31-bf3e-0903f082629a",
   "metadata": {},
   "outputs": [
    {
     "data": {
      "text/plain": [
       "np.float64(-0.06496050712064393)"
      ]
     },
     "execution_count": 183,
     "metadata": {},
     "output_type": "execute_result"
    }
   ],
   "source": [
    "data['Positive Feedback Count'].corr(data['Rating'])"
   ]
  },
  {
   "cell_type": "markdown",
   "id": "26ab0045-aeb3-492d-ab02-4d8c1b5e030b",
   "metadata": {},
   "source": [
    "<h4>this indicates there is no direct correlation between them. so analyzing values of this feature seperately</h4>"
   ]
  },
  {
   "cell_type": "code",
   "execution_count": 184,
   "id": "eb68d1cd-63b1-4fc8-8793-49319ad88b1f",
   "metadata": {},
   "outputs": [
    {
     "name": "stdout",
     "output_type": "stream",
     "text": [
      "count    23486.000000\n",
      "mean         2.535936\n",
      "std          5.702202\n",
      "min          0.000000\n",
      "25%          0.000000\n",
      "50%          1.000000\n",
      "75%          3.000000\n",
      "max        122.000000\n",
      "Name: Positive Feedback Count, dtype: float64\n"
     ]
    }
   ],
   "source": [
    "print(data['Positive Feedback Count'].describe())"
   ]
  },
  {
   "cell_type": "markdown",
   "id": "2997cff7-3379-49df-a9cd-f84403d429a2",
   "metadata": {},
   "source": [
    "<h4>similarly checking correlation between recommended ind and rating</h4>"
   ]
  },
  {
   "cell_type": "code",
   "execution_count": 185,
   "id": "99656ec8-fff1-4c65-8b9b-f1cfbfd6b70e",
   "metadata": {},
   "outputs": [
    {
     "data": {
      "text/plain": [
       "np.float64(0.792336287928579)"
      ]
     },
     "execution_count": 185,
     "metadata": {},
     "output_type": "execute_result"
    }
   ],
   "source": [
    "data['Recommended IND'].corr(data['Rating'])"
   ]
  },
  {
   "cell_type": "markdown",
   "id": "e027a0a0-aa0e-4a22-bfef-decbb2925420",
   "metadata": {},
   "source": [
    "<h4> this incidates a proper correlation between them. Now based on collected information, we create and label column sentiment for supervised learning</h4>"
   ]
  },
  {
   "cell_type": "code",
   "execution_count": 186,
   "id": "48173ce2-00f0-4f64-892f-95300afecd09",
   "metadata": {},
   "outputs": [],
   "source": [
    "def map_sentiment(row):\n",
    "    rating = row[\"Rating\"]\n",
    "    recommended_ind = row[\"Recommended IND\"]\n",
    "    positive_count = row[\"Positive Feedback Count\"]\n",
    "    \n",
    "    if (rating >= 4 and recommended_ind >=1) or positive_count>=3: \n",
    "        #since postive feedback is used as solo indicator , I took the value closer to mean for more safety\n",
    "        return \"Positive\"\n",
    "    elif rating <= 2 and recommended_ind == 0:\n",
    "        return \"Negative\"\n",
    "    else:\n",
    "        return \"Neutral\""
   ]
  },
  {
   "cell_type": "code",
   "execution_count": 187,
   "id": "58422062-7838-44b5-bb8f-aa06f5809999",
   "metadata": {},
   "outputs": [],
   "source": [
    "data['Sentiment'] = data.apply(map_sentiment,axis=1)"
   ]
  },
  {
   "cell_type": "code",
   "execution_count": 188,
   "id": "e1a15a55-2183-4423-a23a-977205bcad18",
   "metadata": {},
   "outputs": [
    {
     "data": {
      "text/plain": [
       "Sentiment\n",
       "Positive    19765\n",
       "Neutral      2215\n",
       "Negative     1506\n",
       "Name: count, dtype: int64"
      ]
     },
     "execution_count": 188,
     "metadata": {},
     "output_type": "execute_result"
    }
   ],
   "source": [
    "data['Sentiment'].value_counts()"
   ]
  },
  {
   "cell_type": "markdown",
   "id": "d25b4693-ab1f-4bbd-b62c-e786a907f0ec",
   "metadata": {},
   "source": [
    "<h4>handling missing values</h4>"
   ]
  },
  {
   "cell_type": "code",
   "execution_count": 189,
   "id": "bf726339-9f1a-426f-8680-56ab6c6d1b9a",
   "metadata": {},
   "outputs": [
    {
     "data": {
      "text/plain": [
       "Title                      3810\n",
       "Review Text                 845\n",
       "Rating                        0\n",
       "Recommended IND               0\n",
       "Positive Feedback Count       0\n",
       "Sentiment                     0\n",
       "dtype: int64"
      ]
     },
     "execution_count": 189,
     "metadata": {},
     "output_type": "execute_result"
    }
   ],
   "source": [
    "data.isna().sum()"
   ]
  },
  {
   "cell_type": "code",
   "execution_count": 190,
   "id": "7ad78c6c-4550-4f7a-8d8f-5af9192321a5",
   "metadata": {},
   "outputs": [
    {
     "data": {
      "text/html": [
       "<div>\n",
       "<style scoped>\n",
       "    .dataframe tbody tr th:only-of-type {\n",
       "        vertical-align: middle;\n",
       "    }\n",
       "\n",
       "    .dataframe tbody tr th {\n",
       "        vertical-align: top;\n",
       "    }\n",
       "\n",
       "    .dataframe thead th {\n",
       "        text-align: right;\n",
       "    }\n",
       "</style>\n",
       "<table border=\"1\" class=\"dataframe\">\n",
       "  <thead>\n",
       "    <tr style=\"text-align: right;\">\n",
       "      <th></th>\n",
       "      <th>Title</th>\n",
       "      <th>Review Text</th>\n",
       "      <th>Rating</th>\n",
       "      <th>Recommended IND</th>\n",
       "      <th>Positive Feedback Count</th>\n",
       "      <th>Sentiment</th>\n",
       "    </tr>\n",
       "  </thead>\n",
       "  <tbody>\n",
       "    <tr>\n",
       "      <th>0</th>\n",
       "      <td>NaN</td>\n",
       "      <td>Absolutely wonderful - silky and sexy and comf...</td>\n",
       "      <td>4</td>\n",
       "      <td>1</td>\n",
       "      <td>0</td>\n",
       "      <td>Positive</td>\n",
       "    </tr>\n",
       "    <tr>\n",
       "      <th>1</th>\n",
       "      <td>NaN</td>\n",
       "      <td>Love this dress!  it's sooo pretty.  i happene...</td>\n",
       "      <td>5</td>\n",
       "      <td>1</td>\n",
       "      <td>4</td>\n",
       "      <td>Positive</td>\n",
       "    </tr>\n",
       "    <tr>\n",
       "      <th>2</th>\n",
       "      <td>Some major design flaws</td>\n",
       "      <td>I had such high hopes for this dress and reall...</td>\n",
       "      <td>3</td>\n",
       "      <td>0</td>\n",
       "      <td>0</td>\n",
       "      <td>Neutral</td>\n",
       "    </tr>\n",
       "    <tr>\n",
       "      <th>3</th>\n",
       "      <td>My favorite buy!</td>\n",
       "      <td>I love, love, love this jumpsuit. it's fun, fl...</td>\n",
       "      <td>5</td>\n",
       "      <td>1</td>\n",
       "      <td>0</td>\n",
       "      <td>Positive</td>\n",
       "    </tr>\n",
       "    <tr>\n",
       "      <th>4</th>\n",
       "      <td>Flattering shirt</td>\n",
       "      <td>This shirt is very flattering to all due to th...</td>\n",
       "      <td>5</td>\n",
       "      <td>1</td>\n",
       "      <td>6</td>\n",
       "      <td>Positive</td>\n",
       "    </tr>\n",
       "    <tr>\n",
       "      <th>...</th>\n",
       "      <td>...</td>\n",
       "      <td>...</td>\n",
       "      <td>...</td>\n",
       "      <td>...</td>\n",
       "      <td>...</td>\n",
       "      <td>...</td>\n",
       "    </tr>\n",
       "    <tr>\n",
       "      <th>23481</th>\n",
       "      <td>Great dress for many occasions</td>\n",
       "      <td>I was very happy to snag this dress at such a ...</td>\n",
       "      <td>5</td>\n",
       "      <td>1</td>\n",
       "      <td>0</td>\n",
       "      <td>Positive</td>\n",
       "    </tr>\n",
       "    <tr>\n",
       "      <th>23482</th>\n",
       "      <td>Wish it was made of cotton</td>\n",
       "      <td>It reminds me of maternity clothes. soft, stre...</td>\n",
       "      <td>3</td>\n",
       "      <td>1</td>\n",
       "      <td>0</td>\n",
       "      <td>Neutral</td>\n",
       "    </tr>\n",
       "    <tr>\n",
       "      <th>23483</th>\n",
       "      <td>Cute, but see through</td>\n",
       "      <td>This fit well, but the top was very see throug...</td>\n",
       "      <td>3</td>\n",
       "      <td>0</td>\n",
       "      <td>1</td>\n",
       "      <td>Neutral</td>\n",
       "    </tr>\n",
       "    <tr>\n",
       "      <th>23484</th>\n",
       "      <td>Very cute dress, perfect for summer parties an...</td>\n",
       "      <td>I bought this dress for a wedding i have this ...</td>\n",
       "      <td>3</td>\n",
       "      <td>1</td>\n",
       "      <td>2</td>\n",
       "      <td>Neutral</td>\n",
       "    </tr>\n",
       "    <tr>\n",
       "      <th>23485</th>\n",
       "      <td>Please make more like this one!</td>\n",
       "      <td>This dress in a lovely platinum is feminine an...</td>\n",
       "      <td>5</td>\n",
       "      <td>1</td>\n",
       "      <td>22</td>\n",
       "      <td>Positive</td>\n",
       "    </tr>\n",
       "  </tbody>\n",
       "</table>\n",
       "<p>22642 rows × 6 columns</p>\n",
       "</div>"
      ],
      "text/plain": [
       "                                                   Title  \\\n",
       "0                                                    NaN   \n",
       "1                                                    NaN   \n",
       "2                                Some major design flaws   \n",
       "3                                       My favorite buy!   \n",
       "4                                       Flattering shirt   \n",
       "...                                                  ...   \n",
       "23481                     Great dress for many occasions   \n",
       "23482                         Wish it was made of cotton   \n",
       "23483                              Cute, but see through   \n",
       "23484  Very cute dress, perfect for summer parties an...   \n",
       "23485                    Please make more like this one!   \n",
       "\n",
       "                                             Review Text  Rating  \\\n",
       "0      Absolutely wonderful - silky and sexy and comf...       4   \n",
       "1      Love this dress!  it's sooo pretty.  i happene...       5   \n",
       "2      I had such high hopes for this dress and reall...       3   \n",
       "3      I love, love, love this jumpsuit. it's fun, fl...       5   \n",
       "4      This shirt is very flattering to all due to th...       5   \n",
       "...                                                  ...     ...   \n",
       "23481  I was very happy to snag this dress at such a ...       5   \n",
       "23482  It reminds me of maternity clothes. soft, stre...       3   \n",
       "23483  This fit well, but the top was very see throug...       3   \n",
       "23484  I bought this dress for a wedding i have this ...       3   \n",
       "23485  This dress in a lovely platinum is feminine an...       5   \n",
       "\n",
       "       Recommended IND  Positive Feedback Count Sentiment  \n",
       "0                    1                        0  Positive  \n",
       "1                    1                        4  Positive  \n",
       "2                    0                        0   Neutral  \n",
       "3                    1                        0  Positive  \n",
       "4                    1                        6  Positive  \n",
       "...                ...                      ...       ...  \n",
       "23481                1                        0  Positive  \n",
       "23482                1                        0   Neutral  \n",
       "23483                0                        1   Neutral  \n",
       "23484                1                        2   Neutral  \n",
       "23485                1                       22  Positive  \n",
       "\n",
       "[22642 rows x 6 columns]"
      ]
     },
     "execution_count": 190,
     "metadata": {},
     "output_type": "execute_result"
    }
   ],
   "source": [
    "data.dropna(subset=['Title', 'Review Text'], how='all')"
   ]
  },
  {
   "cell_type": "code",
   "execution_count": 191,
   "id": "5bbae600-7f94-408c-b0e9-5e9c9ab09c7f",
   "metadata": {},
   "outputs": [
    {
     "data": {
      "text/plain": [
       "Title                      3810\n",
       "Review Text                 845\n",
       "Rating                        0\n",
       "Recommended IND               0\n",
       "Positive Feedback Count       0\n",
       "Sentiment                     0\n",
       "dtype: int64"
      ]
     },
     "execution_count": 191,
     "metadata": {},
     "output_type": "execute_result"
    }
   ],
   "source": [
    "data.isna().sum()"
   ]
  },
  {
   "cell_type": "code",
   "execution_count": 192,
   "id": "e5d19281-b34e-4910-88a1-c11db0448942",
   "metadata": {},
   "outputs": [],
   "source": [
    "m = data[['Title', 'Review Text']].isna().all(axis=1)"
   ]
  },
  {
   "cell_type": "code",
   "execution_count": 193,
   "id": "e9929e92-ea08-4ea5-8ce1-24cfb3ad1685",
   "metadata": {},
   "outputs": [],
   "source": [
    "data.drop(index=data[m].index, inplace=True)"
   ]
  },
  {
   "cell_type": "code",
   "execution_count": 194,
   "id": "d41d4d01-4b02-4268-a196-b7c05b0cc9d4",
   "metadata": {},
   "outputs": [],
   "source": [
    "data.loc[:,'Full Review'] = data[['Title','Review Text']].fillna('').astype(str).agg(' '.join,axis=1).str.strip()"
   ]
  },
  {
   "cell_type": "code",
   "execution_count": 195,
   "id": "1d8059fd-eb90-406e-89c1-e40cca537cf1",
   "metadata": {},
   "outputs": [],
   "source": [
    "data.drop(['Title', 'Review Text','Rating','Recommended IND', 'Positive Feedback Count'], axis=1, inplace=True)"
   ]
  },
  {
   "cell_type": "code",
   "execution_count": 196,
   "id": "eb6816db-6f28-451b-b619-5eb29e0912ea",
   "metadata": {},
   "outputs": [
    {
     "data": {
      "text/plain": [
       "0"
      ]
     },
     "execution_count": 196,
     "metadata": {},
     "output_type": "execute_result"
    }
   ],
   "source": [
    "data[data['Full Review'].str.strip() == \"\"].shape[0]"
   ]
  },
  {
   "cell_type": "code",
   "execution_count": 197,
   "id": "179f641d-a9b9-4e46-a4ec-b6f270b897c6",
   "metadata": {},
   "outputs": [
    {
     "data": {
      "text/plain": [
       "Sentiment      0\n",
       "Full Review    0\n",
       "dtype: int64"
      ]
     },
     "execution_count": 197,
     "metadata": {},
     "output_type": "execute_result"
    }
   ],
   "source": [
    "data.isna().sum()"
   ]
  },
  {
   "cell_type": "markdown",
   "id": "dda80d3c-9b54-4276-99cd-290b8fbde187",
   "metadata": {},
   "source": [
    "<h3>check for duplicates</h3>"
   ]
  },
  {
   "cell_type": "code",
   "execution_count": 198,
   "id": "b77db6d7-ca14-40a9-9cb2-fc1fd0b9a92f",
   "metadata": {},
   "outputs": [
    {
     "data": {
      "text/plain": [
       "np.int64(5)"
      ]
     },
     "execution_count": 198,
     "metadata": {},
     "output_type": "execute_result"
    }
   ],
   "source": [
    "data.duplicated().sum()"
   ]
  },
  {
   "cell_type": "code",
   "execution_count": 199,
   "id": "4bc9b9e6-ada0-4895-a820-d0e23df2e51d",
   "metadata": {},
   "outputs": [
    {
     "data": {
      "text/html": [
       "<div>\n",
       "<style scoped>\n",
       "    .dataframe tbody tr th:only-of-type {\n",
       "        vertical-align: middle;\n",
       "    }\n",
       "\n",
       "    .dataframe tbody tr th {\n",
       "        vertical-align: top;\n",
       "    }\n",
       "\n",
       "    .dataframe thead th {\n",
       "        text-align: right;\n",
       "    }\n",
       "</style>\n",
       "<table border=\"1\" class=\"dataframe\">\n",
       "  <thead>\n",
       "    <tr style=\"text-align: right;\">\n",
       "      <th></th>\n",
       "      <th>Sentiment</th>\n",
       "      <th>Full Review</th>\n",
       "    </tr>\n",
       "  </thead>\n",
       "  <tbody>\n",
       "    <tr>\n",
       "      <th>0</th>\n",
       "      <td>Positive</td>\n",
       "      <td>Absolutely wonderful - silky and sexy and comf...</td>\n",
       "    </tr>\n",
       "    <tr>\n",
       "      <th>1</th>\n",
       "      <td>Positive</td>\n",
       "      <td>Love this dress!  it's sooo pretty.  i happene...</td>\n",
       "    </tr>\n",
       "    <tr>\n",
       "      <th>2</th>\n",
       "      <td>Neutral</td>\n",
       "      <td>Some major design flaws I had such high hopes ...</td>\n",
       "    </tr>\n",
       "    <tr>\n",
       "      <th>3</th>\n",
       "      <td>Positive</td>\n",
       "      <td>My favorite buy! I love, love, love this jumps...</td>\n",
       "    </tr>\n",
       "    <tr>\n",
       "      <th>4</th>\n",
       "      <td>Positive</td>\n",
       "      <td>Flattering shirt This shirt is very flattering...</td>\n",
       "    </tr>\n",
       "    <tr>\n",
       "      <th>...</th>\n",
       "      <td>...</td>\n",
       "      <td>...</td>\n",
       "    </tr>\n",
       "    <tr>\n",
       "      <th>23481</th>\n",
       "      <td>Positive</td>\n",
       "      <td>Great dress for many occasions I was very happ...</td>\n",
       "    </tr>\n",
       "    <tr>\n",
       "      <th>23482</th>\n",
       "      <td>Neutral</td>\n",
       "      <td>Wish it was made of cotton It reminds me of ma...</td>\n",
       "    </tr>\n",
       "    <tr>\n",
       "      <th>23483</th>\n",
       "      <td>Neutral</td>\n",
       "      <td>Cute, but see through This fit well, but the t...</td>\n",
       "    </tr>\n",
       "    <tr>\n",
       "      <th>23484</th>\n",
       "      <td>Neutral</td>\n",
       "      <td>Very cute dress, perfect for summer parties an...</td>\n",
       "    </tr>\n",
       "    <tr>\n",
       "      <th>23485</th>\n",
       "      <td>Positive</td>\n",
       "      <td>Please make more like this one! This dress in ...</td>\n",
       "    </tr>\n",
       "  </tbody>\n",
       "</table>\n",
       "<p>22637 rows × 2 columns</p>\n",
       "</div>"
      ],
      "text/plain": [
       "      Sentiment                                        Full Review\n",
       "0      Positive  Absolutely wonderful - silky and sexy and comf...\n",
       "1      Positive  Love this dress!  it's sooo pretty.  i happene...\n",
       "2       Neutral  Some major design flaws I had such high hopes ...\n",
       "3      Positive  My favorite buy! I love, love, love this jumps...\n",
       "4      Positive  Flattering shirt This shirt is very flattering...\n",
       "...         ...                                                ...\n",
       "23481  Positive  Great dress for many occasions I was very happ...\n",
       "23482   Neutral  Wish it was made of cotton It reminds me of ma...\n",
       "23483   Neutral  Cute, but see through This fit well, but the t...\n",
       "23484   Neutral  Very cute dress, perfect for summer parties an...\n",
       "23485  Positive  Please make more like this one! This dress in ...\n",
       "\n",
       "[22637 rows x 2 columns]"
      ]
     },
     "execution_count": 199,
     "metadata": {},
     "output_type": "execute_result"
    }
   ],
   "source": [
    "data.drop_duplicates()"
   ]
  },
  {
   "cell_type": "code",
   "execution_count": 200,
   "id": "fa77bea1-afc4-4a9d-990f-fec7a99d32ad",
   "metadata": {},
   "outputs": [
    {
     "data": {
      "text/html": [
       "<div>\n",
       "<style scoped>\n",
       "    .dataframe tbody tr th:only-of-type {\n",
       "        vertical-align: middle;\n",
       "    }\n",
       "\n",
       "    .dataframe tbody tr th {\n",
       "        vertical-align: top;\n",
       "    }\n",
       "\n",
       "    .dataframe thead th {\n",
       "        text-align: right;\n",
       "    }\n",
       "</style>\n",
       "<table border=\"1\" class=\"dataframe\">\n",
       "  <thead>\n",
       "    <tr style=\"text-align: right;\">\n",
       "      <th></th>\n",
       "      <th>Full Review</th>\n",
       "      <th>Sentiment</th>\n",
       "    </tr>\n",
       "  </thead>\n",
       "  <tbody>\n",
       "    <tr>\n",
       "      <th>0</th>\n",
       "      <td>Absolutely wonderful - silky and sexy and comf...</td>\n",
       "      <td>Positive</td>\n",
       "    </tr>\n",
       "    <tr>\n",
       "      <th>1</th>\n",
       "      <td>Love this dress!  it's sooo pretty.  i happene...</td>\n",
       "      <td>Positive</td>\n",
       "    </tr>\n",
       "    <tr>\n",
       "      <th>2</th>\n",
       "      <td>Some major design flaws I had such high hopes ...</td>\n",
       "      <td>Neutral</td>\n",
       "    </tr>\n",
       "    <tr>\n",
       "      <th>3</th>\n",
       "      <td>My favorite buy! I love, love, love this jumps...</td>\n",
       "      <td>Positive</td>\n",
       "    </tr>\n",
       "    <tr>\n",
       "      <th>4</th>\n",
       "      <td>Flattering shirt This shirt is very flattering...</td>\n",
       "      <td>Positive</td>\n",
       "    </tr>\n",
       "  </tbody>\n",
       "</table>\n",
       "</div>"
      ],
      "text/plain": [
       "                                         Full Review Sentiment\n",
       "0  Absolutely wonderful - silky and sexy and comf...  Positive\n",
       "1  Love this dress!  it's sooo pretty.  i happene...  Positive\n",
       "2  Some major design flaws I had such high hopes ...   Neutral\n",
       "3  My favorite buy! I love, love, love this jumps...  Positive\n",
       "4  Flattering shirt This shirt is very flattering...  Positive"
      ]
     },
     "execution_count": 200,
     "metadata": {},
     "output_type": "execute_result"
    }
   ],
   "source": [
    "data = data[['Full Review','Sentiment']]\n",
    "data = data.reset_index(drop=True)\n",
    "data.head()"
   ]
  },
  {
   "cell_type": "code",
   "execution_count": 201,
   "id": "1513ce9e-aa1d-4222-9dcb-3b47abc97084",
   "metadata": {},
   "outputs": [],
   "source": [
    "enc={'Negative':0,'Neutral':1,'Positive':2}"
   ]
  },
  {
   "cell_type": "code",
   "execution_count": 202,
   "id": "f8cde4ca-ef34-4da8-8d1b-090562ddb5ef",
   "metadata": {},
   "outputs": [],
   "source": [
    "data[\"Sentiment\"]=data[\"Sentiment\"].map(enc)"
   ]
  },
  {
   "cell_type": "code",
   "execution_count": 203,
   "id": "2b7199f6-142a-443e-9c09-be1bf31f66dd",
   "metadata": {},
   "outputs": [
    {
     "data": {
      "text/html": [
       "<div>\n",
       "<style scoped>\n",
       "    .dataframe tbody tr th:only-of-type {\n",
       "        vertical-align: middle;\n",
       "    }\n",
       "\n",
       "    .dataframe tbody tr th {\n",
       "        vertical-align: top;\n",
       "    }\n",
       "\n",
       "    .dataframe thead th {\n",
       "        text-align: right;\n",
       "    }\n",
       "</style>\n",
       "<table border=\"1\" class=\"dataframe\">\n",
       "  <thead>\n",
       "    <tr style=\"text-align: right;\">\n",
       "      <th></th>\n",
       "      <th>Full Review</th>\n",
       "      <th>Sentiment</th>\n",
       "    </tr>\n",
       "  </thead>\n",
       "  <tbody>\n",
       "    <tr>\n",
       "      <th>0</th>\n",
       "      <td>Absolutely wonderful - silky and sexy and comf...</td>\n",
       "      <td>2</td>\n",
       "    </tr>\n",
       "    <tr>\n",
       "      <th>1</th>\n",
       "      <td>Love this dress!  it's sooo pretty.  i happene...</td>\n",
       "      <td>2</td>\n",
       "    </tr>\n",
       "    <tr>\n",
       "      <th>2</th>\n",
       "      <td>Some major design flaws I had such high hopes ...</td>\n",
       "      <td>1</td>\n",
       "    </tr>\n",
       "    <tr>\n",
       "      <th>3</th>\n",
       "      <td>My favorite buy! I love, love, love this jumps...</td>\n",
       "      <td>2</td>\n",
       "    </tr>\n",
       "    <tr>\n",
       "      <th>4</th>\n",
       "      <td>Flattering shirt This shirt is very flattering...</td>\n",
       "      <td>2</td>\n",
       "    </tr>\n",
       "  </tbody>\n",
       "</table>\n",
       "</div>"
      ],
      "text/plain": [
       "                                         Full Review  Sentiment\n",
       "0  Absolutely wonderful - silky and sexy and comf...          2\n",
       "1  Love this dress!  it's sooo pretty.  i happene...          2\n",
       "2  Some major design flaws I had such high hopes ...          1\n",
       "3  My favorite buy! I love, love, love this jumps...          2\n",
       "4  Flattering shirt This shirt is very flattering...          2"
      ]
     },
     "execution_count": 203,
     "metadata": {},
     "output_type": "execute_result"
    }
   ],
   "source": [
    "data.head()"
   ]
  },
  {
   "cell_type": "code",
   "execution_count": 208,
   "id": "caaa0384-fa7c-471c-97f8-aadfa47a8ed7",
   "metadata": {},
   "outputs": [],
   "source": [
    "data.to_pickle(\"../models/data_processed.pkl\")"
   ]
  },
  {
   "cell_type": "code",
   "execution_count": null,
   "id": "629e9121-452e-4eee-9cbd-2796b51c6989",
   "metadata": {},
   "outputs": [],
   "source": []
  }
 ],
 "metadata": {
  "kernelspec": {
   "display_name": "Python 3 (ipykernel)",
   "language": "python",
   "name": "python3"
  },
  "language_info": {
   "codemirror_mode": {
    "name": "ipython",
    "version": 3
   },
   "file_extension": ".py",
   "mimetype": "text/x-python",
   "name": "python",
   "nbconvert_exporter": "python",
   "pygments_lexer": "ipython3",
   "version": "3.12.3"
  }
 },
 "nbformat": 4,
 "nbformat_minor": 5
}
