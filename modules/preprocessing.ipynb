{
 "cells": [
  {
   "cell_type": "code",
   "execution_count": 429,
   "id": "e645e224-d426-49f4-8747-f0ddd210ba53",
   "metadata": {},
   "outputs": [],
   "source": [
    "import pandas as pd\n",
    "import numpy as np"
   ]
  },
  {
   "cell_type": "code",
   "execution_count": 430,
   "id": "410a01a1-e26d-4fa0-9621-957cbda03678",
   "metadata": {},
   "outputs": [],
   "source": [
    "data = pd.read_csv(r'..\\datasets\\Womens Clothing E-Commerce Reviews.csv')"
   ]
  },
  {
   "cell_type": "code",
   "execution_count": 431,
   "id": "ca636f4c-95e8-477d-8342-b9dddc21015f",
   "metadata": {},
   "outputs": [
    {
     "data": {
      "text/plain": [
       "Index(['Unnamed: 0', 'Clothing ID', 'Age', 'Title', 'Review Text', 'Rating',\n",
       "       'Recommended IND', 'Positive Feedback Count', 'Division Name',\n",
       "       'Department Name', 'Class Name'],\n",
       "      dtype='object')"
      ]
     },
     "execution_count": 431,
     "metadata": {},
     "output_type": "execute_result"
    }
   ],
   "source": [
    "data.columns"
   ]
  },
  {
   "cell_type": "markdown",
   "id": "ef9f94a2-a2f7-4157-91ad-a2cb330bab84",
   "metadata": {},
   "source": [
    "Keeping only required columns"
   ]
  },
  {
   "cell_type": "code",
   "execution_count": 432,
   "id": "844272ec-472b-4a1a-98f0-5e437ae0f406",
   "metadata": {},
   "outputs": [],
   "source": [
    "keep = ['Age', 'Title', 'Review Text', 'Rating','Recommended IND', 'Positive Feedback Count','Department Name', 'Class Name']\n",
    "data = data[keep]"
   ]
  },
  {
   "cell_type": "code",
   "execution_count": 433,
   "id": "a1a5a8ed-67f8-46fe-9a21-2cf7a521e35f",
   "metadata": {},
   "outputs": [
    {
     "data": {
      "text/html": [
       "<div>\n",
       "<style scoped>\n",
       "    .dataframe tbody tr th:only-of-type {\n",
       "        vertical-align: middle;\n",
       "    }\n",
       "\n",
       "    .dataframe tbody tr th {\n",
       "        vertical-align: top;\n",
       "    }\n",
       "\n",
       "    .dataframe thead th {\n",
       "        text-align: right;\n",
       "    }\n",
       "</style>\n",
       "<table border=\"1\" class=\"dataframe\">\n",
       "  <thead>\n",
       "    <tr style=\"text-align: right;\">\n",
       "      <th></th>\n",
       "      <th>Age</th>\n",
       "      <th>Title</th>\n",
       "      <th>Review Text</th>\n",
       "      <th>Rating</th>\n",
       "      <th>Recommended IND</th>\n",
       "      <th>Positive Feedback Count</th>\n",
       "      <th>Department Name</th>\n",
       "      <th>Class Name</th>\n",
       "    </tr>\n",
       "  </thead>\n",
       "  <tbody>\n",
       "    <tr>\n",
       "      <th>0</th>\n",
       "      <td>33</td>\n",
       "      <td>NaN</td>\n",
       "      <td>Absolutely wonderful - silky and sexy and comf...</td>\n",
       "      <td>4</td>\n",
       "      <td>1</td>\n",
       "      <td>0</td>\n",
       "      <td>Intimate</td>\n",
       "      <td>Intimates</td>\n",
       "    </tr>\n",
       "    <tr>\n",
       "      <th>1</th>\n",
       "      <td>34</td>\n",
       "      <td>NaN</td>\n",
       "      <td>Love this dress!  it's sooo pretty.  i happene...</td>\n",
       "      <td>5</td>\n",
       "      <td>1</td>\n",
       "      <td>4</td>\n",
       "      <td>Dresses</td>\n",
       "      <td>Dresses</td>\n",
       "    </tr>\n",
       "    <tr>\n",
       "      <th>2</th>\n",
       "      <td>60</td>\n",
       "      <td>Some major design flaws</td>\n",
       "      <td>I had such high hopes for this dress and reall...</td>\n",
       "      <td>3</td>\n",
       "      <td>0</td>\n",
       "      <td>0</td>\n",
       "      <td>Dresses</td>\n",
       "      <td>Dresses</td>\n",
       "    </tr>\n",
       "    <tr>\n",
       "      <th>3</th>\n",
       "      <td>50</td>\n",
       "      <td>My favorite buy!</td>\n",
       "      <td>I love, love, love this jumpsuit. it's fun, fl...</td>\n",
       "      <td>5</td>\n",
       "      <td>1</td>\n",
       "      <td>0</td>\n",
       "      <td>Bottoms</td>\n",
       "      <td>Pants</td>\n",
       "    </tr>\n",
       "    <tr>\n",
       "      <th>4</th>\n",
       "      <td>47</td>\n",
       "      <td>Flattering shirt</td>\n",
       "      <td>This shirt is very flattering to all due to th...</td>\n",
       "      <td>5</td>\n",
       "      <td>1</td>\n",
       "      <td>6</td>\n",
       "      <td>Tops</td>\n",
       "      <td>Blouses</td>\n",
       "    </tr>\n",
       "  </tbody>\n",
       "</table>\n",
       "</div>"
      ],
      "text/plain": [
       "   Age                    Title  \\\n",
       "0   33                      NaN   \n",
       "1   34                      NaN   \n",
       "2   60  Some major design flaws   \n",
       "3   50         My favorite buy!   \n",
       "4   47         Flattering shirt   \n",
       "\n",
       "                                         Review Text  Rating  Recommended IND  \\\n",
       "0  Absolutely wonderful - silky and sexy and comf...       4                1   \n",
       "1  Love this dress!  it's sooo pretty.  i happene...       5                1   \n",
       "2  I had such high hopes for this dress and reall...       3                0   \n",
       "3  I love, love, love this jumpsuit. it's fun, fl...       5                1   \n",
       "4  This shirt is very flattering to all due to th...       5                1   \n",
       "\n",
       "   Positive Feedback Count Department Name Class Name  \n",
       "0                        0        Intimate  Intimates  \n",
       "1                        4         Dresses    Dresses  \n",
       "2                        0         Dresses    Dresses  \n",
       "3                        0         Bottoms      Pants  \n",
       "4                        6            Tops    Blouses  "
      ]
     },
     "execution_count": 433,
     "metadata": {},
     "output_type": "execute_result"
    }
   ],
   "source": [
    "data.head()"
   ]
  },
  {
   "cell_type": "markdown",
   "id": "fb66bbf7-e4af-4635-9929-3a20a838ba0e",
   "metadata": {},
   "source": [
    "<h3>Analyzing correlations among key features to establish criteria for accurate sentiment labeling</h3>"
   ]
  },
  {
   "cell_type": "code",
   "execution_count": 434,
   "id": "4c0326ea-7398-4b31-bf3e-0903f082629a",
   "metadata": {},
   "outputs": [
    {
     "data": {
      "text/plain": [
       "np.float64(-0.06496050712064393)"
      ]
     },
     "execution_count": 434,
     "metadata": {},
     "output_type": "execute_result"
    }
   ],
   "source": [
    "data['Positive Feedback Count'].corr(data['Rating'])"
   ]
  },
  {
   "cell_type": "markdown",
   "id": "26ab0045-aeb3-492d-ab02-4d8c1b5e030b",
   "metadata": {},
   "source": [
    "<h4>this indicates there is no direct correlation between them. so analyzing values of this feature seperately</h4>"
   ]
  },
  {
   "cell_type": "code",
   "execution_count": 435,
   "id": "eb68d1cd-63b1-4fc8-8793-49319ad88b1f",
   "metadata": {},
   "outputs": [
    {
     "name": "stdout",
     "output_type": "stream",
     "text": [
      "count    23486.000000\n",
      "mean         2.535936\n",
      "std          5.702202\n",
      "min          0.000000\n",
      "25%          0.000000\n",
      "50%          1.000000\n",
      "75%          3.000000\n",
      "max        122.000000\n",
      "Name: Positive Feedback Count, dtype: float64\n"
     ]
    }
   ],
   "source": [
    "print(data['Positive Feedback Count'].describe())"
   ]
  },
  {
   "cell_type": "markdown",
   "id": "2997cff7-3379-49df-a9cd-f84403d429a2",
   "metadata": {},
   "source": [
    "<h4>similarly checking correlation between recommended ind and rating</h4>"
   ]
  },
  {
   "cell_type": "code",
   "execution_count": 436,
   "id": "99656ec8-fff1-4c65-8b9b-f1cfbfd6b70e",
   "metadata": {},
   "outputs": [
    {
     "data": {
      "text/plain": [
       "np.float64(0.792336287928579)"
      ]
     },
     "execution_count": 436,
     "metadata": {},
     "output_type": "execute_result"
    }
   ],
   "source": [
    "data['Recommended IND'].corr(data['Rating'])"
   ]
  },
  {
   "cell_type": "markdown",
   "id": "e027a0a0-aa0e-4a22-bfef-decbb2925420",
   "metadata": {},
   "source": [
    "<h4> this incidates a proper correlation between them. Now based on collected information, we create and label column sentiment for supervised learning</h4>"
   ]
  },
  {
   "cell_type": "code",
   "execution_count": 437,
   "id": "48173ce2-00f0-4f64-892f-95300afecd09",
   "metadata": {},
   "outputs": [],
   "source": [
    "def map_sentiment(row):\n",
    "    rating = row[\"Rating\"]\n",
    "    recommended_ind = row[\"Recommended IND\"]\n",
    "    positive_count = row[\"Positive Feedback Count\"]\n",
    "    \n",
    "    if (rating >= 4 and recommended_ind >=1) or positive_count>=3: \n",
    "        #since postive feedback is used as solo indicator , I took the value closer to mean for more safety\n",
    "        return \"Positive\"\n",
    "    elif rating <= 2 and recommended_ind == 0:\n",
    "        return \"Negative\"\n",
    "    else:\n",
    "        return \"Neutral\""
   ]
  },
  {
   "cell_type": "code",
   "execution_count": 438,
   "id": "58422062-7838-44b5-bb8f-aa06f5809999",
   "metadata": {},
   "outputs": [],
   "source": [
    "data['Sentiment'] = data.apply(map_sentiment,axis=1)"
   ]
  },
  {
   "cell_type": "code",
   "execution_count": 439,
   "id": "e1a15a55-2183-4423-a23a-977205bcad18",
   "metadata": {},
   "outputs": [
    {
     "data": {
      "text/plain": [
       "Sentiment\n",
       "Positive    19765\n",
       "Neutral      2215\n",
       "Negative     1506\n",
       "Name: count, dtype: int64"
      ]
     },
     "execution_count": 439,
     "metadata": {},
     "output_type": "execute_result"
    }
   ],
   "source": [
    "data['Sentiment'].value_counts()"
   ]
  },
  {
   "cell_type": "markdown",
   "id": "d25b4693-ab1f-4bbd-b62c-e786a907f0ec",
   "metadata": {},
   "source": [
    "<h4>handling missing values</h4>"
   ]
  },
  {
   "cell_type": "code",
   "execution_count": 440,
   "id": "bf726339-9f1a-426f-8680-56ab6c6d1b9a",
   "metadata": {},
   "outputs": [
    {
     "data": {
      "text/plain": [
       "Age                           0\n",
       "Title                      3810\n",
       "Review Text                 845\n",
       "Rating                        0\n",
       "Recommended IND               0\n",
       "Positive Feedback Count       0\n",
       "Department Name              14\n",
       "Class Name                   14\n",
       "Sentiment                     0\n",
       "dtype: int64"
      ]
     },
     "execution_count": 440,
     "metadata": {},
     "output_type": "execute_result"
    }
   ],
   "source": [
    "data.isna().sum()"
   ]
  },
  {
   "cell_type": "code",
   "execution_count": 441,
   "id": "7ad78c6c-4550-4f7a-8d8f-5af9192321a5",
   "metadata": {},
   "outputs": [
    {
     "data": {
      "text/html": [
       "<div>\n",
       "<style scoped>\n",
       "    .dataframe tbody tr th:only-of-type {\n",
       "        vertical-align: middle;\n",
       "    }\n",
       "\n",
       "    .dataframe tbody tr th {\n",
       "        vertical-align: top;\n",
       "    }\n",
       "\n",
       "    .dataframe thead th {\n",
       "        text-align: right;\n",
       "    }\n",
       "</style>\n",
       "<table border=\"1\" class=\"dataframe\">\n",
       "  <thead>\n",
       "    <tr style=\"text-align: right;\">\n",
       "      <th></th>\n",
       "      <th>Age</th>\n",
       "      <th>Title</th>\n",
       "      <th>Review Text</th>\n",
       "      <th>Rating</th>\n",
       "      <th>Recommended IND</th>\n",
       "      <th>Positive Feedback Count</th>\n",
       "      <th>Department Name</th>\n",
       "      <th>Class Name</th>\n",
       "      <th>Sentiment</th>\n",
       "    </tr>\n",
       "  </thead>\n",
       "  <tbody>\n",
       "    <tr>\n",
       "      <th>0</th>\n",
       "      <td>33</td>\n",
       "      <td>NaN</td>\n",
       "      <td>Absolutely wonderful - silky and sexy and comf...</td>\n",
       "      <td>4</td>\n",
       "      <td>1</td>\n",
       "      <td>0</td>\n",
       "      <td>Intimate</td>\n",
       "      <td>Intimates</td>\n",
       "      <td>Positive</td>\n",
       "    </tr>\n",
       "    <tr>\n",
       "      <th>1</th>\n",
       "      <td>34</td>\n",
       "      <td>NaN</td>\n",
       "      <td>Love this dress!  it's sooo pretty.  i happene...</td>\n",
       "      <td>5</td>\n",
       "      <td>1</td>\n",
       "      <td>4</td>\n",
       "      <td>Dresses</td>\n",
       "      <td>Dresses</td>\n",
       "      <td>Positive</td>\n",
       "    </tr>\n",
       "    <tr>\n",
       "      <th>2</th>\n",
       "      <td>60</td>\n",
       "      <td>Some major design flaws</td>\n",
       "      <td>I had such high hopes for this dress and reall...</td>\n",
       "      <td>3</td>\n",
       "      <td>0</td>\n",
       "      <td>0</td>\n",
       "      <td>Dresses</td>\n",
       "      <td>Dresses</td>\n",
       "      <td>Neutral</td>\n",
       "    </tr>\n",
       "    <tr>\n",
       "      <th>3</th>\n",
       "      <td>50</td>\n",
       "      <td>My favorite buy!</td>\n",
       "      <td>I love, love, love this jumpsuit. it's fun, fl...</td>\n",
       "      <td>5</td>\n",
       "      <td>1</td>\n",
       "      <td>0</td>\n",
       "      <td>Bottoms</td>\n",
       "      <td>Pants</td>\n",
       "      <td>Positive</td>\n",
       "    </tr>\n",
       "    <tr>\n",
       "      <th>4</th>\n",
       "      <td>47</td>\n",
       "      <td>Flattering shirt</td>\n",
       "      <td>This shirt is very flattering to all due to th...</td>\n",
       "      <td>5</td>\n",
       "      <td>1</td>\n",
       "      <td>6</td>\n",
       "      <td>Tops</td>\n",
       "      <td>Blouses</td>\n",
       "      <td>Positive</td>\n",
       "    </tr>\n",
       "    <tr>\n",
       "      <th>...</th>\n",
       "      <td>...</td>\n",
       "      <td>...</td>\n",
       "      <td>...</td>\n",
       "      <td>...</td>\n",
       "      <td>...</td>\n",
       "      <td>...</td>\n",
       "      <td>...</td>\n",
       "      <td>...</td>\n",
       "      <td>...</td>\n",
       "    </tr>\n",
       "    <tr>\n",
       "      <th>23481</th>\n",
       "      <td>34</td>\n",
       "      <td>Great dress for many occasions</td>\n",
       "      <td>I was very happy to snag this dress at such a ...</td>\n",
       "      <td>5</td>\n",
       "      <td>1</td>\n",
       "      <td>0</td>\n",
       "      <td>Dresses</td>\n",
       "      <td>Dresses</td>\n",
       "      <td>Positive</td>\n",
       "    </tr>\n",
       "    <tr>\n",
       "      <th>23482</th>\n",
       "      <td>48</td>\n",
       "      <td>Wish it was made of cotton</td>\n",
       "      <td>It reminds me of maternity clothes. soft, stre...</td>\n",
       "      <td>3</td>\n",
       "      <td>1</td>\n",
       "      <td>0</td>\n",
       "      <td>Tops</td>\n",
       "      <td>Knits</td>\n",
       "      <td>Neutral</td>\n",
       "    </tr>\n",
       "    <tr>\n",
       "      <th>23483</th>\n",
       "      <td>31</td>\n",
       "      <td>Cute, but see through</td>\n",
       "      <td>This fit well, but the top was very see throug...</td>\n",
       "      <td>3</td>\n",
       "      <td>0</td>\n",
       "      <td>1</td>\n",
       "      <td>Dresses</td>\n",
       "      <td>Dresses</td>\n",
       "      <td>Neutral</td>\n",
       "    </tr>\n",
       "    <tr>\n",
       "      <th>23484</th>\n",
       "      <td>28</td>\n",
       "      <td>Very cute dress, perfect for summer parties an...</td>\n",
       "      <td>I bought this dress for a wedding i have this ...</td>\n",
       "      <td>3</td>\n",
       "      <td>1</td>\n",
       "      <td>2</td>\n",
       "      <td>Dresses</td>\n",
       "      <td>Dresses</td>\n",
       "      <td>Neutral</td>\n",
       "    </tr>\n",
       "    <tr>\n",
       "      <th>23485</th>\n",
       "      <td>52</td>\n",
       "      <td>Please make more like this one!</td>\n",
       "      <td>This dress in a lovely platinum is feminine an...</td>\n",
       "      <td>5</td>\n",
       "      <td>1</td>\n",
       "      <td>22</td>\n",
       "      <td>Dresses</td>\n",
       "      <td>Dresses</td>\n",
       "      <td>Positive</td>\n",
       "    </tr>\n",
       "  </tbody>\n",
       "</table>\n",
       "<p>22642 rows × 9 columns</p>\n",
       "</div>"
      ],
      "text/plain": [
       "       Age                                              Title  \\\n",
       "0       33                                                NaN   \n",
       "1       34                                                NaN   \n",
       "2       60                            Some major design flaws   \n",
       "3       50                                   My favorite buy!   \n",
       "4       47                                   Flattering shirt   \n",
       "...    ...                                                ...   \n",
       "23481   34                     Great dress for many occasions   \n",
       "23482   48                         Wish it was made of cotton   \n",
       "23483   31                              Cute, but see through   \n",
       "23484   28  Very cute dress, perfect for summer parties an...   \n",
       "23485   52                    Please make more like this one!   \n",
       "\n",
       "                                             Review Text  Rating  \\\n",
       "0      Absolutely wonderful - silky and sexy and comf...       4   \n",
       "1      Love this dress!  it's sooo pretty.  i happene...       5   \n",
       "2      I had such high hopes for this dress and reall...       3   \n",
       "3      I love, love, love this jumpsuit. it's fun, fl...       5   \n",
       "4      This shirt is very flattering to all due to th...       5   \n",
       "...                                                  ...     ...   \n",
       "23481  I was very happy to snag this dress at such a ...       5   \n",
       "23482  It reminds me of maternity clothes. soft, stre...       3   \n",
       "23483  This fit well, but the top was very see throug...       3   \n",
       "23484  I bought this dress for a wedding i have this ...       3   \n",
       "23485  This dress in a lovely platinum is feminine an...       5   \n",
       "\n",
       "       Recommended IND  Positive Feedback Count Department Name Class Name  \\\n",
       "0                    1                        0        Intimate  Intimates   \n",
       "1                    1                        4         Dresses    Dresses   \n",
       "2                    0                        0         Dresses    Dresses   \n",
       "3                    1                        0         Bottoms      Pants   \n",
       "4                    1                        6            Tops    Blouses   \n",
       "...                ...                      ...             ...        ...   \n",
       "23481                1                        0         Dresses    Dresses   \n",
       "23482                1                        0            Tops      Knits   \n",
       "23483                0                        1         Dresses    Dresses   \n",
       "23484                1                        2         Dresses    Dresses   \n",
       "23485                1                       22         Dresses    Dresses   \n",
       "\n",
       "      Sentiment  \n",
       "0      Positive  \n",
       "1      Positive  \n",
       "2       Neutral  \n",
       "3      Positive  \n",
       "4      Positive  \n",
       "...         ...  \n",
       "23481  Positive  \n",
       "23482   Neutral  \n",
       "23483   Neutral  \n",
       "23484   Neutral  \n",
       "23485  Positive  \n",
       "\n",
       "[22642 rows x 9 columns]"
      ]
     },
     "execution_count": 441,
     "metadata": {},
     "output_type": "execute_result"
    }
   ],
   "source": [
    "data.dropna(subset=['Title', 'Review Text'], how='all')"
   ]
  },
  {
   "cell_type": "code",
   "execution_count": 442,
   "id": "5bbae600-7f94-408c-b0e9-5e9c9ab09c7f",
   "metadata": {},
   "outputs": [
    {
     "data": {
      "text/plain": [
       "Age                           0\n",
       "Title                      3810\n",
       "Review Text                 845\n",
       "Rating                        0\n",
       "Recommended IND               0\n",
       "Positive Feedback Count       0\n",
       "Department Name              14\n",
       "Class Name                   14\n",
       "Sentiment                     0\n",
       "dtype: int64"
      ]
     },
     "execution_count": 442,
     "metadata": {},
     "output_type": "execute_result"
    }
   ],
   "source": [
    "data.isna().sum()"
   ]
  },
  {
   "cell_type": "code",
   "execution_count": 443,
   "id": "e5d19281-b34e-4910-88a1-c11db0448942",
   "metadata": {},
   "outputs": [],
   "source": [
    "m = data[['Title', 'Review Text']].isna().all(axis=1)"
   ]
  },
  {
   "cell_type": "code",
   "execution_count": 444,
   "id": "e9929e92-ea08-4ea5-8ce1-24cfb3ad1685",
   "metadata": {},
   "outputs": [],
   "source": [
    "data.drop(index=data[m].index, inplace=True)"
   ]
  },
  {
   "cell_type": "code",
   "execution_count": 445,
   "id": "d41d4d01-4b02-4268-a196-b7c05b0cc9d4",
   "metadata": {},
   "outputs": [],
   "source": [
    "data.loc[:,'Full Review'] = data[['Title','Review Text']].fillna('').astype(str).agg(' '.join,axis=1).str.strip()"
   ]
  },
  {
   "cell_type": "code",
   "execution_count": 446,
   "id": "1d8059fd-eb90-406e-89c1-e40cca537cf1",
   "metadata": {},
   "outputs": [],
   "source": [
    "data.drop(['Title', 'Review Text'], axis=1, inplace=True)"
   ]
  },
  {
   "cell_type": "code",
   "execution_count": 447,
   "id": "eb6816db-6f28-451b-b619-5eb29e0912ea",
   "metadata": {},
   "outputs": [
    {
     "data": {
      "text/plain": [
       "0"
      ]
     },
     "execution_count": 447,
     "metadata": {},
     "output_type": "execute_result"
    }
   ],
   "source": [
    "data[data['Full Review'].str.strip() == \"\"].shape[0]"
   ]
  },
  {
   "cell_type": "code",
   "execution_count": 448,
   "id": "179f641d-a9b9-4e46-a4ec-b6f270b897c6",
   "metadata": {},
   "outputs": [
    {
     "data": {
      "text/plain": [
       "Age                         0\n",
       "Rating                      0\n",
       "Recommended IND             0\n",
       "Positive Feedback Count     0\n",
       "Department Name            13\n",
       "Class Name                 13\n",
       "Sentiment                   0\n",
       "Full Review                 0\n",
       "dtype: int64"
      ]
     },
     "execution_count": 448,
     "metadata": {},
     "output_type": "execute_result"
    }
   ],
   "source": [
    "data.isna().sum()"
   ]
  },
  {
   "cell_type": "code",
   "execution_count": 449,
   "id": "82511b2e-0cdd-43f8-ace8-c210815e5d9f",
   "metadata": {},
   "outputs": [
    {
     "data": {
      "text/plain": [
       "Age                        0\n",
       "Rating                     0\n",
       "Recommended IND            0\n",
       "Positive Feedback Count    0\n",
       "Department Name            0\n",
       "Class Name                 0\n",
       "Sentiment                  0\n",
       "Full Review                0\n",
       "dtype: int64"
      ]
     },
     "execution_count": 449,
     "metadata": {},
     "output_type": "execute_result"
    }
   ],
   "source": [
    "data.fillna({'Department Name' :'Unknown'}, inplace=True)\n",
    "data.fillna({'Class Name':'Unknown'}, inplace=True)\n",
    "data.isna().sum()"
   ]
  },
  {
   "cell_type": "markdown",
   "id": "dda80d3c-9b54-4276-99cd-290b8fbde187",
   "metadata": {},
   "source": [
    "<h3>check for duplicates</h3>"
   ]
  },
  {
   "cell_type": "code",
   "execution_count": 450,
   "id": "b77db6d7-ca14-40a9-9cb2-fc1fd0b9a92f",
   "metadata": {},
   "outputs": [
    {
     "data": {
      "text/plain": [
       "np.int64(2)"
      ]
     },
     "execution_count": 450,
     "metadata": {},
     "output_type": "execute_result"
    }
   ],
   "source": [
    "data.duplicated().sum()"
   ]
  },
  {
   "cell_type": "code",
   "execution_count": 451,
   "id": "4bc9b9e6-ada0-4895-a820-d0e23df2e51d",
   "metadata": {},
   "outputs": [
    {
     "data": {
      "text/html": [
       "<div>\n",
       "<style scoped>\n",
       "    .dataframe tbody tr th:only-of-type {\n",
       "        vertical-align: middle;\n",
       "    }\n",
       "\n",
       "    .dataframe tbody tr th {\n",
       "        vertical-align: top;\n",
       "    }\n",
       "\n",
       "    .dataframe thead th {\n",
       "        text-align: right;\n",
       "    }\n",
       "</style>\n",
       "<table border=\"1\" class=\"dataframe\">\n",
       "  <thead>\n",
       "    <tr style=\"text-align: right;\">\n",
       "      <th></th>\n",
       "      <th>Age</th>\n",
       "      <th>Rating</th>\n",
       "      <th>Recommended IND</th>\n",
       "      <th>Positive Feedback Count</th>\n",
       "      <th>Department Name</th>\n",
       "      <th>Class Name</th>\n",
       "      <th>Sentiment</th>\n",
       "      <th>Full Review</th>\n",
       "    </tr>\n",
       "  </thead>\n",
       "  <tbody>\n",
       "    <tr>\n",
       "      <th>0</th>\n",
       "      <td>33</td>\n",
       "      <td>4</td>\n",
       "      <td>1</td>\n",
       "      <td>0</td>\n",
       "      <td>Intimate</td>\n",
       "      <td>Intimates</td>\n",
       "      <td>Positive</td>\n",
       "      <td>Absolutely wonderful - silky and sexy and comf...</td>\n",
       "    </tr>\n",
       "    <tr>\n",
       "      <th>1</th>\n",
       "      <td>34</td>\n",
       "      <td>5</td>\n",
       "      <td>1</td>\n",
       "      <td>4</td>\n",
       "      <td>Dresses</td>\n",
       "      <td>Dresses</td>\n",
       "      <td>Positive</td>\n",
       "      <td>Love this dress!  it's sooo pretty.  i happene...</td>\n",
       "    </tr>\n",
       "    <tr>\n",
       "      <th>2</th>\n",
       "      <td>60</td>\n",
       "      <td>3</td>\n",
       "      <td>0</td>\n",
       "      <td>0</td>\n",
       "      <td>Dresses</td>\n",
       "      <td>Dresses</td>\n",
       "      <td>Neutral</td>\n",
       "      <td>Some major design flaws I had such high hopes ...</td>\n",
       "    </tr>\n",
       "    <tr>\n",
       "      <th>3</th>\n",
       "      <td>50</td>\n",
       "      <td>5</td>\n",
       "      <td>1</td>\n",
       "      <td>0</td>\n",
       "      <td>Bottoms</td>\n",
       "      <td>Pants</td>\n",
       "      <td>Positive</td>\n",
       "      <td>My favorite buy! I love, love, love this jumps...</td>\n",
       "    </tr>\n",
       "    <tr>\n",
       "      <th>4</th>\n",
       "      <td>47</td>\n",
       "      <td>5</td>\n",
       "      <td>1</td>\n",
       "      <td>6</td>\n",
       "      <td>Tops</td>\n",
       "      <td>Blouses</td>\n",
       "      <td>Positive</td>\n",
       "      <td>Flattering shirt This shirt is very flattering...</td>\n",
       "    </tr>\n",
       "    <tr>\n",
       "      <th>...</th>\n",
       "      <td>...</td>\n",
       "      <td>...</td>\n",
       "      <td>...</td>\n",
       "      <td>...</td>\n",
       "      <td>...</td>\n",
       "      <td>...</td>\n",
       "      <td>...</td>\n",
       "      <td>...</td>\n",
       "    </tr>\n",
       "    <tr>\n",
       "      <th>23481</th>\n",
       "      <td>34</td>\n",
       "      <td>5</td>\n",
       "      <td>1</td>\n",
       "      <td>0</td>\n",
       "      <td>Dresses</td>\n",
       "      <td>Dresses</td>\n",
       "      <td>Positive</td>\n",
       "      <td>Great dress for many occasions I was very happ...</td>\n",
       "    </tr>\n",
       "    <tr>\n",
       "      <th>23482</th>\n",
       "      <td>48</td>\n",
       "      <td>3</td>\n",
       "      <td>1</td>\n",
       "      <td>0</td>\n",
       "      <td>Tops</td>\n",
       "      <td>Knits</td>\n",
       "      <td>Neutral</td>\n",
       "      <td>Wish it was made of cotton It reminds me of ma...</td>\n",
       "    </tr>\n",
       "    <tr>\n",
       "      <th>23483</th>\n",
       "      <td>31</td>\n",
       "      <td>3</td>\n",
       "      <td>0</td>\n",
       "      <td>1</td>\n",
       "      <td>Dresses</td>\n",
       "      <td>Dresses</td>\n",
       "      <td>Neutral</td>\n",
       "      <td>Cute, but see through This fit well, but the t...</td>\n",
       "    </tr>\n",
       "    <tr>\n",
       "      <th>23484</th>\n",
       "      <td>28</td>\n",
       "      <td>3</td>\n",
       "      <td>1</td>\n",
       "      <td>2</td>\n",
       "      <td>Dresses</td>\n",
       "      <td>Dresses</td>\n",
       "      <td>Neutral</td>\n",
       "      <td>Very cute dress, perfect for summer parties an...</td>\n",
       "    </tr>\n",
       "    <tr>\n",
       "      <th>23485</th>\n",
       "      <td>52</td>\n",
       "      <td>5</td>\n",
       "      <td>1</td>\n",
       "      <td>22</td>\n",
       "      <td>Dresses</td>\n",
       "      <td>Dresses</td>\n",
       "      <td>Positive</td>\n",
       "      <td>Please make more like this one! This dress in ...</td>\n",
       "    </tr>\n",
       "  </tbody>\n",
       "</table>\n",
       "<p>22640 rows × 8 columns</p>\n",
       "</div>"
      ],
      "text/plain": [
       "       Age  Rating  Recommended IND  Positive Feedback Count Department Name  \\\n",
       "0       33       4                1                        0        Intimate   \n",
       "1       34       5                1                        4         Dresses   \n",
       "2       60       3                0                        0         Dresses   \n",
       "3       50       5                1                        0         Bottoms   \n",
       "4       47       5                1                        6            Tops   \n",
       "...    ...     ...              ...                      ...             ...   \n",
       "23481   34       5                1                        0         Dresses   \n",
       "23482   48       3                1                        0            Tops   \n",
       "23483   31       3                0                        1         Dresses   \n",
       "23484   28       3                1                        2         Dresses   \n",
       "23485   52       5                1                       22         Dresses   \n",
       "\n",
       "      Class Name Sentiment                                        Full Review  \n",
       "0      Intimates  Positive  Absolutely wonderful - silky and sexy and comf...  \n",
       "1        Dresses  Positive  Love this dress!  it's sooo pretty.  i happene...  \n",
       "2        Dresses   Neutral  Some major design flaws I had such high hopes ...  \n",
       "3          Pants  Positive  My favorite buy! I love, love, love this jumps...  \n",
       "4        Blouses  Positive  Flattering shirt This shirt is very flattering...  \n",
       "...          ...       ...                                                ...  \n",
       "23481    Dresses  Positive  Great dress for many occasions I was very happ...  \n",
       "23482      Knits   Neutral  Wish it was made of cotton It reminds me of ma...  \n",
       "23483    Dresses   Neutral  Cute, but see through This fit well, but the t...  \n",
       "23484    Dresses   Neutral  Very cute dress, perfect for summer parties an...  \n",
       "23485    Dresses  Positive  Please make more like this one! This dress in ...  \n",
       "\n",
       "[22640 rows x 8 columns]"
      ]
     },
     "execution_count": 451,
     "metadata": {},
     "output_type": "execute_result"
    }
   ],
   "source": [
    "data.drop_duplicates()"
   ]
  },
  {
   "cell_type": "markdown",
   "id": "43234ff3-0b87-4903-b257-d9397e48a465",
   "metadata": {},
   "source": [
    "<h3>data Cleaning</h3>"
   ]
  },
  {
   "cell_type": "code",
   "execution_count": 452,
   "id": "446d12f6-dba9-42ec-b1ec-c840a4d63697",
   "metadata": {},
   "outputs": [],
   "source": [
    "import re"
   ]
  },
  {
   "cell_type": "code",
   "execution_count": 453,
   "id": "69f08735-62a8-4945-a4b6-602a91daab21",
   "metadata": {},
   "outputs": [],
   "source": [
    "def clean(text):\n",
    "    text = re.sub(r'<.*?>','',text)\n",
    "    text = re.sub(r'[^\\w\\s]','',text)\n",
    "    text = re.sub(r'\\d+','',text)\n",
    "    return text.lower()"
   ]
  },
  {
   "cell_type": "code",
   "execution_count": 454,
   "id": "407315e5-e46a-41ff-b620-50ba19139768",
   "metadata": {},
   "outputs": [],
   "source": [
    "data[\"Full Review\"]=data[\"Full Review\"].apply(clean)"
   ]
  },
  {
   "cell_type": "markdown",
   "id": "6d17b1d5-cdc0-40f8-b244-90fdc86d3270",
   "metadata": {},
   "source": [
    "<h3>Tokenization</h3>"
   ]
  },
  {
   "cell_type": "code",
   "execution_count": 455,
   "id": "f8304958-05cc-4546-aa5e-a59d3be23110",
   "metadata": {},
   "outputs": [
    {
     "name": "stderr",
     "output_type": "stream",
     "text": [
      "[nltk_data] Downloading package punkt to\n",
      "[nltk_data]     C:\\Users\\DELL\\AppData\\Roaming\\nltk_data...\n",
      "[nltk_data]   Package punkt is already up-to-date!\n"
     ]
    },
    {
     "data": {
      "text/plain": [
       "True"
      ]
     },
     "execution_count": 455,
     "metadata": {},
     "output_type": "execute_result"
    }
   ],
   "source": [
    "import nltk\n",
    "from nltk.tokenize import word_tokenize\n",
    "nltk.download('punkt')"
   ]
  },
  {
   "cell_type": "code",
   "execution_count": 456,
   "id": "1b959ec7-011b-41a7-9843-5dfe124dd7af",
   "metadata": {},
   "outputs": [
    {
     "name": "stderr",
     "output_type": "stream",
     "text": [
      "[nltk_data] Downloading package punkt_tab to\n",
      "[nltk_data]     C:\\Users\\DELL\\AppData\\Roaming\\nltk_data...\n",
      "[nltk_data]   Package punkt_tab is already up-to-date!\n"
     ]
    },
    {
     "data": {
      "text/plain": [
       "True"
      ]
     },
     "execution_count": 456,
     "metadata": {},
     "output_type": "execute_result"
    }
   ],
   "source": [
    "nltk.download('punkt_tab')"
   ]
  },
  {
   "cell_type": "code",
   "execution_count": 457,
   "id": "495b941b-c018-4539-8051-efbef36269c5",
   "metadata": {},
   "outputs": [],
   "source": [
    "data[\"Review Tokenize\"] = data[\"Full Review\"].apply(word_tokenize)"
   ]
  },
  {
   "cell_type": "markdown",
   "id": "16b36367-2950-4baf-b831-67d7a40a9f5b",
   "metadata": {},
   "source": [
    "<h3>remove stopwords</h3>"
   ]
  },
  {
   "cell_type": "code",
   "execution_count": 458,
   "id": "9b00cbfd-b5ca-4534-bd50-c738a1330e74",
   "metadata": {},
   "outputs": [
    {
     "name": "stderr",
     "output_type": "stream",
     "text": [
      "[nltk_data] Downloading package stopwords to\n",
      "[nltk_data]     C:\\Users\\DELL\\AppData\\Roaming\\nltk_data...\n",
      "[nltk_data]   Package stopwords is already up-to-date!\n"
     ]
    },
    {
     "data": {
      "text/plain": [
       "True"
      ]
     },
     "execution_count": 458,
     "metadata": {},
     "output_type": "execute_result"
    }
   ],
   "source": [
    "import nltk\n",
    "from nltk.corpus import stopwords\n",
    "nltk.download('stopwords')"
   ]
  },
  {
   "cell_type": "code",
   "execution_count": 459,
   "id": "aacc2c74-5dde-44c1-bea9-64ffe08c2764",
   "metadata": {},
   "outputs": [],
   "source": [
    "stop_words= set(stopwords.words('english'))"
   ]
  },
  {
   "cell_type": "code",
   "execution_count": 460,
   "id": "cb06c6e6-62a1-427b-a3ee-2e5565a05549",
   "metadata": {},
   "outputs": [],
   "source": [
    "def remove_stopwords(text):\n",
    "    wrd=[wrd for wrd in text if wrd not in stop_words]\n",
    "    return wrd"
   ]
  },
  {
   "cell_type": "code",
   "execution_count": 461,
   "id": "df892c3d-cb08-4355-bec4-e543d8d26366",
   "metadata": {},
   "outputs": [],
   "source": [
    "data['review_sw_removed']=data[\"Review Tokenize\"].apply(remove_stopwords)"
   ]
  },
  {
   "cell_type": "code",
   "execution_count": 462,
   "id": "9cdd1bb3-96c9-45f2-a0b2-79694d420eb7",
   "metadata": {},
   "outputs": [
    {
     "data": {
      "text/html": [
       "<div>\n",
       "<style scoped>\n",
       "    .dataframe tbody tr th:only-of-type {\n",
       "        vertical-align: middle;\n",
       "    }\n",
       "\n",
       "    .dataframe tbody tr th {\n",
       "        vertical-align: top;\n",
       "    }\n",
       "\n",
       "    .dataframe thead th {\n",
       "        text-align: right;\n",
       "    }\n",
       "</style>\n",
       "<table border=\"1\" class=\"dataframe\">\n",
       "  <thead>\n",
       "    <tr style=\"text-align: right;\">\n",
       "      <th></th>\n",
       "      <th>Age</th>\n",
       "      <th>Rating</th>\n",
       "      <th>Recommended IND</th>\n",
       "      <th>Positive Feedback Count</th>\n",
       "      <th>Department Name</th>\n",
       "      <th>Class Name</th>\n",
       "      <th>Sentiment</th>\n",
       "      <th>Full Review</th>\n",
       "      <th>Review Tokenize</th>\n",
       "      <th>review_sw_removed</th>\n",
       "    </tr>\n",
       "  </thead>\n",
       "  <tbody>\n",
       "    <tr>\n",
       "      <th>0</th>\n",
       "      <td>33</td>\n",
       "      <td>4</td>\n",
       "      <td>1</td>\n",
       "      <td>0</td>\n",
       "      <td>Intimate</td>\n",
       "      <td>Intimates</td>\n",
       "      <td>Positive</td>\n",
       "      <td>absolutely wonderful  silky and sexy and comfo...</td>\n",
       "      <td>[absolutely, wonderful, silky, and, sexy, and,...</td>\n",
       "      <td>[absolutely, wonderful, silky, sexy, comfortable]</td>\n",
       "    </tr>\n",
       "    <tr>\n",
       "      <th>1</th>\n",
       "      <td>34</td>\n",
       "      <td>5</td>\n",
       "      <td>1</td>\n",
       "      <td>4</td>\n",
       "      <td>Dresses</td>\n",
       "      <td>Dresses</td>\n",
       "      <td>Positive</td>\n",
       "      <td>love this dress  its sooo pretty  i happened t...</td>\n",
       "      <td>[love, this, dress, its, sooo, pretty, i, happ...</td>\n",
       "      <td>[love, dress, sooo, pretty, happened, find, st...</td>\n",
       "    </tr>\n",
       "    <tr>\n",
       "      <th>2</th>\n",
       "      <td>60</td>\n",
       "      <td>3</td>\n",
       "      <td>0</td>\n",
       "      <td>0</td>\n",
       "      <td>Dresses</td>\n",
       "      <td>Dresses</td>\n",
       "      <td>Neutral</td>\n",
       "      <td>some major design flaws i had such high hopes ...</td>\n",
       "      <td>[some, major, design, flaws, i, had, such, hig...</td>\n",
       "      <td>[major, design, flaws, high, hopes, dress, rea...</td>\n",
       "    </tr>\n",
       "    <tr>\n",
       "      <th>3</th>\n",
       "      <td>50</td>\n",
       "      <td>5</td>\n",
       "      <td>1</td>\n",
       "      <td>0</td>\n",
       "      <td>Bottoms</td>\n",
       "      <td>Pants</td>\n",
       "      <td>Positive</td>\n",
       "      <td>my favorite buy i love love love this jumpsuit...</td>\n",
       "      <td>[my, favorite, buy, i, love, love, love, this,...</td>\n",
       "      <td>[favorite, buy, love, love, love, jumpsuit, fu...</td>\n",
       "    </tr>\n",
       "    <tr>\n",
       "      <th>4</th>\n",
       "      <td>47</td>\n",
       "      <td>5</td>\n",
       "      <td>1</td>\n",
       "      <td>6</td>\n",
       "      <td>Tops</td>\n",
       "      <td>Blouses</td>\n",
       "      <td>Positive</td>\n",
       "      <td>flattering shirt this shirt is very flattering...</td>\n",
       "      <td>[flattering, shirt, this, shirt, is, very, fla...</td>\n",
       "      <td>[flattering, shirt, shirt, flattering, due, ad...</td>\n",
       "    </tr>\n",
       "  </tbody>\n",
       "</table>\n",
       "</div>"
      ],
      "text/plain": [
       "   Age  Rating  Recommended IND  Positive Feedback Count Department Name  \\\n",
       "0   33       4                1                        0        Intimate   \n",
       "1   34       5                1                        4         Dresses   \n",
       "2   60       3                0                        0         Dresses   \n",
       "3   50       5                1                        0         Bottoms   \n",
       "4   47       5                1                        6            Tops   \n",
       "\n",
       "  Class Name Sentiment                                        Full Review  \\\n",
       "0  Intimates  Positive  absolutely wonderful  silky and sexy and comfo...   \n",
       "1    Dresses  Positive  love this dress  its sooo pretty  i happened t...   \n",
       "2    Dresses   Neutral  some major design flaws i had such high hopes ...   \n",
       "3      Pants  Positive  my favorite buy i love love love this jumpsuit...   \n",
       "4    Blouses  Positive  flattering shirt this shirt is very flattering...   \n",
       "\n",
       "                                     Review Tokenize  \\\n",
       "0  [absolutely, wonderful, silky, and, sexy, and,...   \n",
       "1  [love, this, dress, its, sooo, pretty, i, happ...   \n",
       "2  [some, major, design, flaws, i, had, such, hig...   \n",
       "3  [my, favorite, buy, i, love, love, love, this,...   \n",
       "4  [flattering, shirt, this, shirt, is, very, fla...   \n",
       "\n",
       "                                   review_sw_removed  \n",
       "0  [absolutely, wonderful, silky, sexy, comfortable]  \n",
       "1  [love, dress, sooo, pretty, happened, find, st...  \n",
       "2  [major, design, flaws, high, hopes, dress, rea...  \n",
       "3  [favorite, buy, love, love, love, jumpsuit, fu...  \n",
       "4  [flattering, shirt, shirt, flattering, due, ad...  "
      ]
     },
     "execution_count": 462,
     "metadata": {},
     "output_type": "execute_result"
    }
   ],
   "source": [
    "data.head()"
   ]
  },
  {
   "cell_type": "markdown",
   "id": "7d61f712-73a8-4bc9-9a3c-0f5d563e7b28",
   "metadata": {},
   "source": [
    "<h3>Stemming and Lemmination</h3>"
   ]
  },
  {
   "cell_type": "code",
   "execution_count": 463,
   "id": "af60e037-79ea-4fbc-b7f4-bb930ae9ca0a",
   "metadata": {},
   "outputs": [],
   "source": [
    "from nltk.stem import WordNetLemmatizer"
   ]
  },
  {
   "cell_type": "code",
   "execution_count": 464,
   "id": "e7c3907e-7320-4482-ad85-73ddf0fce348",
   "metadata": {},
   "outputs": [
    {
     "name": "stderr",
     "output_type": "stream",
     "text": [
      "[nltk_data] Downloading package wordnet to\n",
      "[nltk_data]     C:\\Users\\DELL\\AppData\\Roaming\\nltk_data...\n",
      "[nltk_data]   Package wordnet is already up-to-date!\n"
     ]
    },
    {
     "data": {
      "text/plain": [
       "True"
      ]
     },
     "execution_count": 464,
     "metadata": {},
     "output_type": "execute_result"
    }
   ],
   "source": [
    "nltk.download('wordnet')"
   ]
  },
  {
   "cell_type": "code",
   "execution_count": 465,
   "id": "473b2e01-b8ce-41e9-b05d-a8505d2531e6",
   "metadata": {},
   "outputs": [],
   "source": [
    "lem=WordNetLemmatizer()"
   ]
  },
  {
   "cell_type": "code",
   "execution_count": 466,
   "id": "26101a64-993b-4cf3-ac9e-565c45cf8215",
   "metadata": {},
   "outputs": [],
   "source": [
    "def lemmatize_word(text):\n",
    "    ret = [lem.lemmatize(word) for word in text]\n",
    "    return ret"
   ]
  },
  {
   "cell_type": "code",
   "execution_count": 467,
   "id": "f99fda8f-3f04-4c3a-a900-7c9252da97f4",
   "metadata": {},
   "outputs": [],
   "source": [
    "data['review_lemmatize']=data['review_sw_removed'].apply(lemmatize_word)"
   ]
  },
  {
   "cell_type": "code",
   "execution_count": 468,
   "id": "1a981575-0d22-4a7c-aca3-694a6c32cff9",
   "metadata": {},
   "outputs": [],
   "source": [
    "data['final_review']=data[\"review_lemmatize\"].apply(lambda x: ' '.join(x))"
   ]
  },
  {
   "cell_type": "markdown",
   "id": "c19f037f-3b07-4b4c-8f52-d3de13bbda1b",
   "metadata": {},
   "source": [
    "<h3>Encoding labels of Sentiment</h3>"
   ]
  },
  {
   "cell_type": "code",
   "execution_count": 469,
   "id": "c91e997e-4500-432a-b894-bd408ad05e6b",
   "metadata": {},
   "outputs": [],
   "source": [
    "enc={'Negative':0,'Neutral':1,'Positive':2}"
   ]
  },
  {
   "cell_type": "code",
   "execution_count": 470,
   "id": "8ab09865-02ec-4418-815f-010e092ce4c9",
   "metadata": {},
   "outputs": [],
   "source": [
    "data[\"Sentiment\"]=data[\"Sentiment\"].map(enc)"
   ]
  },
  {
   "cell_type": "markdown",
   "id": "4a672754-3093-4594-9ce8-4c91b23b33a9",
   "metadata": {},
   "source": [
    "<h3>Exporting dataset</h3>"
   ]
  },
  {
   "cell_type": "code",
   "execution_count": 480,
   "id": "fbb9e754-27d5-4bab-8bb1-351630cb00ef",
   "metadata": {},
   "outputs": [],
   "source": [
    "data.to_pickle(\"../models/data_processed.pkl\")"
   ]
  }
 ],
 "metadata": {
  "kernelspec": {
   "display_name": "Python 3 (ipykernel)",
   "language": "python",
   "name": "python3"
  },
  "language_info": {
   "codemirror_mode": {
    "name": "ipython",
    "version": 3
   },
   "file_extension": ".py",
   "mimetype": "text/x-python",
   "name": "python",
   "nbconvert_exporter": "python",
   "pygments_lexer": "ipython3",
   "version": "3.12.3"
  }
 },
 "nbformat": 4,
 "nbformat_minor": 5
}
