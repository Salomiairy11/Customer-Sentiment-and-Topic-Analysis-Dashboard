{
 "cells": [
  {
   "cell_type": "code",
   "execution_count": 3,
   "id": "dfcd5e0b-d74e-48c2-a70a-f1b59b9b6002",
   "metadata": {},
   "outputs": [],
   "source": [
    "import numpy as np\n",
    "import pandas as pd\n",
    "import joblib "
   ]
  },
  {
   "cell_type": "code",
   "execution_count": 11,
   "id": "5b13e851-0627-480f-97dc-f5f7b22e0659",
   "metadata": {},
   "outputs": [],
   "source": [
    "model,ref_cols,target = joblib.load(\"./models/model.pkl\")"
   ]
  },
  {
   "cell_type": "code",
   "execution_count": null,
   "id": "63f9d505-86e0-4013-9289-4bd6f4ba2877",
   "metadata": {},
   "outputs": [],
   "source": []
  }
 ],
 "metadata": {
  "kernelspec": {
   "display_name": "Python 3 (ipykernel)",
   "language": "python",
   "name": "python3"
  },
  "language_info": {
   "codemirror_mode": {
    "name": "ipython",
    "version": 3
   },
   "file_extension": ".py",
   "mimetype": "text/x-python",
   "name": "python",
   "nbconvert_exporter": "python",
   "pygments_lexer": "ipython3",
   "version": "3.12.3"
  }
 },
 "nbformat": 4,
 "nbformat_minor": 5
}
